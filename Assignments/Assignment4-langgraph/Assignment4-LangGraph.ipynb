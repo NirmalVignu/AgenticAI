{
 "cells": [
  {
   "cell_type": "code",
   "execution_count": 2,
   "id": "62a0bd89",
   "metadata": {},
   "outputs": [],
   "source": [
    "# # Cell 1: Install required packages\n",
    "# !pip install langgraph langchain langchain-groq langchain-community langchain-huggingface\n",
    "# !pip install chromadb sentence-transformers pypdf tavily-python"
   ]
  },
  {
   "cell_type": "code",
   "execution_count": 1,
   "id": "2457bfbb",
   "metadata": {},
   "outputs": [
    {
     "data": {
      "text/plain": [
       "True"
      ]
     },
     "execution_count": 1,
     "metadata": {},
     "output_type": "execute_result"
    }
   ],
   "source": [
    "import os\n",
    "from typing import TypedDict, Literal\n",
    "from langgraph.graph import StateGraph, END\n",
    "from langchain_groq import ChatGroq\n",
    "from langchain_community.document_loaders import PyPDFLoader\n",
    "from langchain_community.vectorstores import Chroma\n",
    "from langchain_huggingface import HuggingFaceEmbeddings\n",
    "from langchain.text_splitter import RecursiveCharacterTextSplitter\n",
    "from langchain.schema import Document\n",
    "from tavily import TavilyClient\n",
    "import tempfile\n",
    "from dotenv import load_dotenv\n",
    "load_dotenv()"
   ]
  },
  {
   "cell_type": "code",
   "execution_count": 2,
   "id": "14284a95",
   "metadata": {},
   "outputs": [],
   "source": [
    "# Set your API keys\n",
    "os.environ[\"GROQ_API_KEY\"] = os.getenv(\"GROQ_API_KEY\")\n",
    "os.environ[\"TAVILY_API_KEY\"] = os.getenv(\"TAVILY_API_KEY\")\n"
   ]
  },
  {
   "cell_type": "code",
   "execution_count": 5,
   "id": "1a64de9a",
   "metadata": {},
   "outputs": [
    {
     "data": {
      "text/plain": [
       "AIMessage(content=\"Hello, world! It's great to meet you! Is there something I can help you with, or would you like to chat?\", additional_kwargs={}, response_metadata={'token_usage': {'completion_tokens': 28, 'prompt_tokens': 14, 'total_tokens': 42, 'completion_time': 0.023333333, 'prompt_time': 0.002328515, 'queue_time': 0.24965084099999998, 'total_time': 0.025661848}, 'model_name': 'llama3-8b-8192', 'system_fingerprint': 'fp_dadc9d6142', 'finish_reason': 'stop', 'logprobs': None}, id='run--a8747632-b47a-43ea-9ca3-a5abd7318d56-0', usage_metadata={'input_tokens': 14, 'output_tokens': 28, 'total_tokens': 42})"
      ]
     },
     "execution_count": 5,
     "metadata": {},
     "output_type": "execute_result"
    }
   ],
   "source": [
    "# Initialize LangChain Groq\n",
    "llm = ChatGroq(\n",
    "    model_name=\"llama3-8b-8192\",\n",
    "    temperature=0.7\n",
    ")\n",
    "llm.invoke(\"Hello, world!\")  # Test invocation"
   ]
  },
  {
   "cell_type": "code",
   "execution_count": 6,
   "id": "bb99e64e",
   "metadata": {},
   "outputs": [],
   "source": [
    "tavily_client = TavilyClient(api_key=os.environ[\"TAVILY_API_KEY\"])"
   ]
  },
  {
   "cell_type": "code",
   "execution_count": 7,
   "id": "86487978",
   "metadata": {},
   "outputs": [],
   "source": [
    "# Define State\n",
    "class GraphState(TypedDict):\n",
    "    question: str\n",
    "    answer: str\n",
    "    route: str\n",
    "    validation_result: str\n",
    "    attempt_count: int\n",
    "    context: str"
   ]
  },
  {
   "cell_type": "code",
   "execution_count": 8,
   "id": "63420935",
   "metadata": {},
   "outputs": [],
   "source": [
    "# Setup RAG Components\n",
    "def setup_rag_system(pdf_path):\n",
    "    \"\"\"Setup RAG system with PDF, embeddings, and ChromaDB\"\"\"\n",
    "    print(\"Setting up RAG system...\")\n",
    "    \n",
    "    # Load PDF\n",
    "    loader = PyPDFLoader(pdf_path)\n",
    "    documents = loader.load()\n",
    "    print(f\"Loaded {len(documents)} pages from PDF\")\n",
    "    \n",
    "    # Split documents\n",
    "    text_splitter = RecursiveCharacterTextSplitter(\n",
    "        chunk_size=1000,\n",
    "        chunk_overlap=200\n",
    "    )\n",
    "    splits = text_splitter.split_documents(documents)\n",
    "    print(f\"Split into {len(splits)} chunks\")\n",
    "    \n",
    "    # Create embeddings using HuggingFace\n",
    "    embeddings = HuggingFaceEmbeddings(\n",
    "        model_name=\"sentence-transformers/all-MiniLM-L6-v2\"\n",
    "    )\n",
    "    \n",
    "    # Create ChromaDB vector store\n",
    "    vectorstore = Chroma.from_documents(\n",
    "        documents=splits,\n",
    "        embedding=embeddings,\n",
    "        persist_directory=\"./assignment_4/chroma_db\"\n",
    "    )\n",
    "    \n",
    "    print(\"RAG system setup complete!\")\n",
    "    return vectorstore"
   ]
  },
  {
   "cell_type": "code",
   "execution_count": 9,
   "id": "5ed37aea",
   "metadata": {},
   "outputs": [
    {
     "name": "stderr",
     "output_type": "stream",
     "text": [
      "<>:2: SyntaxWarning: invalid escape sequence '\\A'\n",
      "<>:2: SyntaxWarning: invalid escape sequence '\\A'\n",
      "C:\\Users\\varig\\AppData\\Local\\Temp\\ipykernel_21152\\724340120.py:2: SyntaxWarning: invalid escape sequence '\\A'\n",
      "  vectorstore = setup_rag_system(\"D:\\AgenticAI\\Assignments\\llama2.pdf\")\n"
     ]
    },
    {
     "name": "stdout",
     "output_type": "stream",
     "text": [
      "Creating vectorstore ...\n",
      "Setting up RAG system...\n",
      "Loaded 77 pages from PDF\n",
      "Split into 342 chunks\n"
     ]
    },
    {
     "name": "stderr",
     "output_type": "stream",
     "text": [
      "d:\\AgenticAI\\venv\\Lib\\site-packages\\tqdm\\auto.py:21: TqdmWarning: IProgress not found. Please update jupyter and ipywidgets. See https://ipywidgets.readthedocs.io/en/stable/user_install.html\n",
      "  from .autonotebook import tqdm as notebook_tqdm\n"
     ]
    },
    {
     "name": "stdout",
     "output_type": "stream",
     "text": [
      "RAG system setup complete!\n"
     ]
    }
   ],
   "source": [
    "print(\"Creating vectorstore ...\")\n",
    "vectorstore = setup_rag_system(\"D:\\AgenticAI\\Assignments\\llama2.pdf\")\n",
    "\n"
   ]
  },
  {
   "cell_type": "code",
   "execution_count": 11,
   "id": "905c2298",
   "metadata": {},
   "outputs": [],
   "source": [
    "# Supervisor Node\n",
    "def supervisor_node(state: GraphState):\n",
    "    print(f\"SUPERVISOR: Processing question: {state['question']}\")\n",
    "    print(f\"SUPERVISOR: Attempt #{state.get('attempt_count', 0) + 1}\")\n",
    "    \n",
    "    return {\n",
    "        **state,\n",
    "        \"attempt_count\": state.get(\"attempt_count\", 0) + 1\n",
    "    }"
   ]
  },
  {
   "cell_type": "code",
   "execution_count": 23,
   "id": "9c3cf033",
   "metadata": {},
   "outputs": [],
   "source": [
    "# Router Function\n",
    "def router_function(state: GraphState):\n",
    "    print(\"ROUTER: Analyzing question to determine route...\")\n",
    "    \n",
    "    # Routing logic based on question content\n",
    "    question = state['question'].lower()\n",
    "    \n",
    "    if any(word in question for word in ['current', 'today', 'latest', 'recent', 'news']):\n",
    "        route = \"web_crawler\"\n",
    "    elif any(word in question for word in ['llama', 'llama2', 'model', 'ai', 'document','knowledge']):\n",
    "        route = \"rag\"\n",
    "    else:\n",
    "        route = \"llm\"\n",
    "    \n",
    "    print(f\"ROUTER: Directing to {route}\")\n",
    "    \n",
    "    return route"
   ]
  },
  {
   "cell_type": "code",
   "execution_count": 25,
   "id": "fd31c3e9",
   "metadata": {},
   "outputs": [],
   "source": [
    "# LLM Node using LangChain Groq\n",
    "def llm_node(state: GraphState):\n",
    "    print(\"LLM NODE: Processing with LangChain Groq\")\n",
    "    \n",
    "    try:\n",
    "        response = llm.invoke(state[\"question\"])\n",
    "        answer = response.content\n",
    "        \n",
    "        print(f\"LLM NODE: Generated answer: {answer[:100]}...\")  # Print first 100 chars for brevity\n",
    "        \n",
    "        return {\n",
    "            **state,\n",
    "            \"answer\": answer,\n",
    "            \"context\": \"Direct LLM response\",\n",
    "            \"route\": \"llm\"\n",
    "        }\n",
    "    except Exception as e:\n",
    "        print(f\"LLM NODE: Error - {e}\")\n",
    "        return {\n",
    "            **state,\n",
    "            \"answer\": \"Error in LLM processing\",\n",
    "            \"context\": \"Error\",\n",
    "            \"route\": \"llm\"\n",
    "        }"
   ]
  },
  {
   "cell_type": "code",
   "execution_count": 26,
   "id": "90243db5",
   "metadata": {},
   "outputs": [],
   "source": [
    "# RAG Node with ChromaDB and HuggingFace Embeddings\n",
    "def rag_node(state: GraphState):\n",
    "    print(\"RAG NODE: Processing with RAG using ChromaDB\")\n",
    "    \n",
    "    try:\n",
    "        # Retrieve relevant documents\n",
    "        docs = vectorstore.similarity_search(state[\"question\"], k=3)\n",
    "        context = \"\\n\\n\".join([doc.page_content for doc in docs])\n",
    "        \n",
    "        print(f\"RAG NODE: Retrieved {len(docs)} relevant documents\")\n",
    "        \n",
    "        # Create prompt with context\n",
    "        prompt = f\"\"\"Based on the following context, answer the question:\n",
    "\n",
    "Context:\n",
    "{context}\n",
    "\n",
    "Question: {state['question']}\n",
    "\n",
    "Answer:\"\"\"\n",
    "        \n",
    "        response = llm.invoke(prompt)\n",
    "        answer = response.content\n",
    "        \n",
    "        print(f\"RAG NODE: Generated answer: {answer[:100]}...\")\n",
    "        \n",
    "        return {\n",
    "            **state,\n",
    "            \"answer\": answer,\n",
    "            \"context\": f\"RAG context with {len(docs)} documents\",\n",
    "            \"route\": \"rag\"\n",
    "        }\n",
    "    except Exception as e:\n",
    "        print(f\"RAG NODE: Error - {e}\")\n",
    "        return {\n",
    "            **state,\n",
    "            \"answer\": \"Error in RAG processing\",\n",
    "            \"context\": \"RAG Error\",\n",
    "            \"route\": \"rag\"\n",
    "        }"
   ]
  },
  {
   "cell_type": "code",
   "execution_count": 27,
   "id": "00c8bb5f",
   "metadata": {},
   "outputs": [],
   "source": [
    "# Web Crawler Node using Tavily\n",
    "def web_crawler_node(state: GraphState):\n",
    "    print(\"WEB CRAWLER NODE: Fetching real-time information using Tavily\")\n",
    "    \n",
    "    try:\n",
    "        # Search using Tavily\n",
    "        search_response = tavily_client.search(\n",
    "            query=state[\"question\"],\n",
    "            search_depth=\"basic\",\n",
    "            max_results=3\n",
    "        )\n",
    "        \n",
    "        # Extract content from search results\n",
    "        web_content = \"\"\n",
    "        for result in search_response.get('results', []):\n",
    "            web_content += f\"Title: {result.get('title', '')}\\n\"\n",
    "            web_content += f\"Content: {result.get('content', '')}\\n\\n\"\n",
    "        \n",
    "        if not web_content:\n",
    "            web_content = \"No relevant web content found.\"\n",
    "        \n",
    "        print(f\"WEB CRAWLER NODE: Retrieved {len(search_response.get('results', []))} web results\")\n",
    "        \n",
    "        # Generate answer using web content\n",
    "        prompt = f\"\"\"Based on the following current web information, answer the question:\n",
    "\n",
    "Web Information:\n",
    "{web_content}\n",
    "\n",
    "Question: {state['question']}\n",
    "\n",
    "Answer with current information:\"\"\"\n",
    "        \n",
    "        response = llm.invoke(prompt)\n",
    "        answer = response.content\n",
    "        \n",
    "        print(f\"WEB CRAWLER NODE: Generated answer: {answer[:100]}...\")\n",
    "        \n",
    "        return {\n",
    "            **state,\n",
    "            \"answer\": answer,\n",
    "            \"context\": f\"Web search with {len(search_response.get('results', []))} results\",\n",
    "            \"route\": \"web_crawler\"\n",
    "        }\n",
    "    except Exception as e:\n",
    "        print(f\"WEB CRAWLER NODE: Error - {e}\")\n",
    "        # Fallback to basic LLM response\n",
    "        response = llm.invoke(f\"Answer this question with current knowledge: {state['question']}\")\n",
    "        return {\n",
    "            **state,\n",
    "            \"answer\": response.content,\n",
    "            \"context\": \"Fallback LLM response (Tavily unavailable)\",\n",
    "            \"route\": \"web_crawler\"\n",
    "        }"
   ]
  },
  {
   "cell_type": "code",
   "execution_count": 28,
   "id": "0541794d",
   "metadata": {},
   "outputs": [],
   "source": [
    "# Validation Node\n",
    "def validation_node(state: GraphState):\n",
    "    print(\"VALIDATION NODE: Checking answer quality\")\n",
    "    \n",
    "    answer = state.get(\"answer\", \"\")\n",
    "    attempt_count = state.get(\"attempt_count\", 0)\n",
    "    \n",
    "    # Simple validation rules\n",
    "    is_valid = (\n",
    "        len(answer) > 20 and  # Not too short\n",
    "        \"error\" not in answer.lower() and  # No error messages\n",
    "        answer.strip() != \"\"  # Not empty\n",
    "    ) or attempt_count >= 3  # Max 3 attempts\n",
    "    \n",
    "    validation_result = \"pass\" if is_valid else \"fail\"\n",
    "    print(f\"VALIDATION NODE: {validation_result.upper()}\")\n",
    "    \n",
    "    return {\n",
    "        **state,\n",
    "        \"validation_result\": validation_result\n",
    "    }"
   ]
  },
  {
   "cell_type": "code",
   "execution_count": 29,
   "id": "3777c6c6",
   "metadata": {},
   "outputs": [],
   "source": [
    "# Validation Router\n",
    "def validation_router(state: GraphState):\n",
    "    if state[\"validation_result\"] == \"pass\":\n",
    "        return \"final_output\"\n",
    "    else:\n",
    "        return \"supervisor\"\n"
   ]
  },
  {
   "cell_type": "code",
   "execution_count": 30,
   "id": "40724f67",
   "metadata": {},
   "outputs": [],
   "source": [
    "# Final Output Node\n",
    "def final_output_node(state: GraphState):\n",
    "    print(\"FINAL OUTPUT NODE: Generating final response\")\n",
    "    \n",
    "    final_answer = f\"\"\"\n",
    "=== FINAL ANSWER ===\n",
    "Question: {state['question']}\n",
    "Answer: {state['answer']}\n",
    "Route Used: {state['route']}\n",
    "Context: {state.get('context', 'N/A')}\n",
    "Attempts: {state['attempt_count']}\n",
    "Validation: PASSED\n",
    "==================\n",
    "\"\"\"\n",
    "    \n",
    "    print(final_answer)\n",
    "    return {**state, \"final_output\": final_answer}"
   ]
  },
  {
   "cell_type": "code",
   "execution_count": 31,
   "id": "aae104af",
   "metadata": {},
   "outputs": [],
   "source": [
    "# Build the Graph\n",
    "def build_graph():\n",
    "    workflow = StateGraph(GraphState)\n",
    "    \n",
    "    # Add nodes\n",
    "    workflow.add_node(\"supervisor\", supervisor_node)\n",
    "    workflow.add_node(\"llm\", llm_node)\n",
    "    workflow.add_node(\"rag\", rag_node) \n",
    "    workflow.add_node(\"web_crawler\", web_crawler_node)\n",
    "    workflow.add_node(\"validation\", validation_node)\n",
    "    workflow.add_node(\"final_output\", final_output_node)\n",
    "    \n",
    "    # Add edges\n",
    "    workflow.set_entry_point(\"supervisor\")\n",
    "    workflow.add_conditional_edges(\"supervisor\", router_function, {\n",
    "        \"llm\": \"llm\",\n",
    "        \"rag\": \"rag\",\n",
    "        \"web_crawler\": \"web_crawler\"\n",
    "    })\n",
    "    workflow.add_edge(\"llm\", \"validation\")\n",
    "    workflow.add_edge(\"rag\", \"validation\")\n",
    "    workflow.add_edge(\"web_crawler\", \"validation\")\n",
    "    workflow.add_conditional_edges(\"validation\", validation_router, {\n",
    "        \"supervisor\": \"supervisor\",\n",
    "        \"final_output\": \"final_output\"\n",
    "    })\n",
    "    workflow.add_edge(\"final_output\", END)\n",
    "    \n",
    "    return workflow.compile()"
   ]
  },
  {
   "cell_type": "code",
   "execution_count": 32,
   "id": "3f60d19f",
   "metadata": {},
   "outputs": [],
   "source": [
    "# Test the Graph\n",
    "app = build_graph()"
   ]
  },
  {
   "cell_type": "code",
   "execution_count": 33,
   "id": "5db3ae28",
   "metadata": {},
   "outputs": [
    {
     "name": "stdout",
     "output_type": "stream",
     "text": [
      "=== TEST 1: LLM Route ===\n",
      "SUPERVISOR: Processing question: What is quantum computing?\n",
      "SUPERVISOR: Attempt #1\n",
      "ROUTER: Analyzing question to determine route...\n",
      "ROUTER: Directing to llm\n",
      "LLM NODE: Processing with LangChain Groq\n",
      "LLM NODE: Generated answer: Quantum computing is a new paradigm in computing that uses the principles of quantum mechanics to pe...\n",
      "VALIDATION NODE: Checking answer quality\n",
      "VALIDATION NODE: FAIL\n",
      "SUPERVISOR: Processing question: What is quantum computing?\n",
      "SUPERVISOR: Attempt #2\n",
      "ROUTER: Analyzing question to determine route...\n",
      "ROUTER: Directing to llm\n",
      "LLM NODE: Processing with LangChain Groq\n",
      "LLM NODE: Generated answer: Quantum computing is a new paradigm in computing that uses the principles of quantum mechanics to pe...\n",
      "VALIDATION NODE: Checking answer quality\n",
      "VALIDATION NODE: FAIL\n",
      "SUPERVISOR: Processing question: What is quantum computing?\n",
      "SUPERVISOR: Attempt #3\n",
      "ROUTER: Analyzing question to determine route...\n",
      "ROUTER: Directing to llm\n",
      "LLM NODE: Processing with LangChain Groq\n",
      "LLM NODE: Generated answer: Quantum computing is a new paradigm in computing that uses the principles of quantum mechanics to pe...\n",
      "VALIDATION NODE: Checking answer quality\n",
      "VALIDATION NODE: PASS\n",
      "FINAL OUTPUT NODE: Generating final response\n",
      "\n",
      "=== FINAL ANSWER ===\n",
      "Question: What is quantum computing?\n",
      "Answer: Quantum computing is a new paradigm in computing that uses the principles of quantum mechanics to perform calculations and operations on data. Unlike classical computers, which use bits (0s and 1s) to process information, quantum computers use quantum bits or qubits.\n",
      "\n",
      "Qubits are special because they can exist in multiple states simultaneously, known as a superposition. This means that a qubit can represent not just 0 or 1, but also any combination of 0 and 1, such as 0.5 or 0.75. This property allows qubits to process vast amounts of data simultaneously, making quantum computers potentially much faster and more powerful than classical computers.\n",
      "\n",
      "Quantum computers also use another phenomenon called entanglement, where qubits become connected and can affect each other even when they are separated by large distances. This allows quantum computers to perform calculations on multiple qubits at the same time, which can lead to exponential scaling and significantly faster processing times.\n",
      "\n",
      "Some of the key features of quantum computing include:\n",
      "\n",
      "1. **Quantum parallelism**: Quantum computers can perform many calculations simultaneously, thanks to the ability of qubits to exist in multiple states.\n",
      "2. **Superposition**: Qubits can represent multiple states at the same time, allowing for faster processing of complex data.\n",
      "3. **Entanglement**: Qubits can be connected and affect each other, enabling quantum computers to perform calculations on multiple qubits at once.\n",
      "4. **Quantum interference**: Quantum computers can use the principles of quantum interference to cancel out errors and improve the accuracy of calculations.\n",
      "5. **Quantum algorithms**: Quantum computers use specialized algorithms that take advantage of the unique properties of qubits, such as Shor's algorithm for factoring large numbers.\n",
      "\n",
      "Quantum computing has the potential to revolutionize many fields, including:\n",
      "\n",
      "1. **Cryptography**: Quantum computers can break certain classical encryption algorithms, but they can also be used to create new, quantum-resistant encryption methods.\n",
      "2. **Optimization**: Quantum computers can quickly solve complex optimization problems, such as scheduling and logistics.\n",
      "3. **Machine learning**: Quantum computers can be used to speed up machine learning algorithms and improve their accuracy.\n",
      "4. **Chemistry and materials science**: Quantum computers can simulate complex chemical reactions and materials properties, leading to breakthroughs in fields like pharmaceuticals and energy.\n",
      "5. **Finance**: Quantum computers can quickly simulate complex financial models and optimize trading strategies.\n",
      "\n",
      "However, quantum computing is still a relatively new and developing field, and many technical challenges need to be overcome before quantum computers can be widely adopted. These challenges include:\n",
      "\n",
      "1. **Error correction**: Quantum computers are prone to errors due to the fragile nature of qubits, and developing reliable error correction methods is a major challenge.\n",
      "2. **Scalability**: Building large-scale quantum computers that can perform complex calculations is a significant challenge.\n",
      "3. **Quantum noise**: Quantum computers are sensitive to noise and other forms of interference, which can cause errors and reduce their performance.\n",
      "\n",
      "Despite these challenges, researchers and companies around the world are actively working on developing quantum computing technology, and significant progress is being made.\n",
      "Route Used: llm\n",
      "Context: Direct LLM response\n",
      "Attempts: 3\n",
      "Validation: PASSED\n",
      "==================\n",
      "\n",
      "\n",
      "==================================================\n",
      "\n"
     ]
    }
   ],
   "source": [
    "\n",
    "\n",
    "# Test with LLM route\n",
    "print(\"=== TEST 1: LLM Route ===\")\n",
    "result1 = app.invoke({\"question\": \"What is quantum computing?\"})\n",
    "\n",
    "print(\"\\n\" + \"=\"*50 + \"\\n\")\n",
    "\n"
   ]
  },
  {
   "cell_type": "code",
   "execution_count": 36,
   "id": "798698f2",
   "metadata": {},
   "outputs": [
    {
     "name": "stdout",
     "output_type": "stream",
     "text": [
      "=== TEST 2: RAG Route ===\n",
      "SUPERVISOR: Processing question: compare llama and llama2?\n",
      "SUPERVISOR: Attempt #1\n",
      "ROUTER: Analyzing question to determine route...\n",
      "ROUTER: Directing to rag\n",
      "RAG NODE: Processing with RAG using ChromaDB\n",
      "RAG NODE: Retrieved 3 relevant documents\n",
      "RAG NODE: Generated answer: The text compares Llama 1 and Llama 2, specifically highlighting the differences in their performanc...\n",
      "VALIDATION NODE: Checking answer quality\n",
      "VALIDATION NODE: PASS\n",
      "FINAL OUTPUT NODE: Generating final response\n",
      "\n",
      "=== FINAL ANSWER ===\n",
      "Question: compare llama and llama2?\n",
      "Answer: The text compares Llama 1 and Llama 2, specifically highlighting the differences in their performance on various benchmarks and tasks.\n",
      "\n",
      "From the text, we can see that:\n",
      "\n",
      "* Llama 2 has a lower percentage of violations under the unqualified advice category, possibly due to the inclusion of a disclaimer (\"I am not a professional\") at times.\n",
      "* Llama 2 shows great improvement over the pretrained Llama 2 in terms of truthfulness and toxicity, achieving the lowest toxicity level among all compared models.\n",
      "* Fine-tuning Llama 2-Chat shows the best performance in terms of toxicity and truthfulness compared to Falcon and MPT.\n",
      "\n",
      "In terms of specific numbers, Table 20 shows the performance of Llama 1 and Llama 2 on standard benchmarks, with Llama 2 generally outperforming Llama 1.\n",
      "\n",
      "Table 21 shows the code generation results on Human-Eval and MBPP, with Llama 2 generally outperforming Llama 1, especially in the 0-shot and 3-shot results.\n",
      "\n",
      "Overall, the comparison suggests that Llama 2 has improved performance and is more effective in generating accurate and non-toxic responses compared to Llama 1.\n",
      "Route Used: rag\n",
      "Context: RAG context with 3 documents\n",
      "Attempts: 1\n",
      "Validation: PASSED\n",
      "==================\n",
      "\n",
      "\n",
      "==================================================\n",
      "\n"
     ]
    }
   ],
   "source": [
    "# Test with RAG route  \n",
    "print(\"=== TEST 2: RAG Route ===\")\n",
    "result2 = app.invoke({\"question\": \"compare llama and llama2?\"})\n",
    "\n",
    "print(\"\\n\" + \"=\"*50 + \"\\n\")"
   ]
  },
  {
   "cell_type": "code",
   "execution_count": 37,
   "id": "1105053c",
   "metadata": {},
   "outputs": [
    {
     "name": "stdout",
     "output_type": "stream",
     "text": [
      "=== TEST 3: Web Crawler Route ===\n",
      "SUPERVISOR: Processing question: What are the latest developments in AI today?\n",
      "SUPERVISOR: Attempt #1\n",
      "ROUTER: Analyzing question to determine route...\n",
      "ROUTER: Directing to web_crawler\n",
      "WEB CRAWLER NODE: Fetching real-time information using Tavily\n",
      "WEB CRAWLER NODE: Retrieved 3 web results\n",
      "WEB CRAWLER NODE: Generated answer: Based on the web information, the latest developments in AI today include:\n",
      "\n",
      "1. Meta's V-JEPA 2, an o...\n",
      "VALIDATION NODE: Checking answer quality\n",
      "VALIDATION NODE: PASS\n",
      "FINAL OUTPUT NODE: Generating final response\n",
      "\n",
      "=== FINAL ANSWER ===\n",
      "Question: What are the latest developments in AI today?\n",
      "Answer: Based on the web information, the latest developments in AI today include:\n",
      "\n",
      "1. Meta's V-JEPA 2, an open-source AI world model, which has stepped into the spotlight and is considered a significant development in the AI research domain.\n",
      "\n",
      "Note: This information is based on the most recent article published on MSN, which suggests that V-JEPA 2 is a recent development in AI.\n",
      "Route Used: web_crawler\n",
      "Context: Web search with 3 results\n",
      "Attempts: 1\n",
      "Validation: PASSED\n",
      "==================\n",
      "\n"
     ]
    }
   ],
   "source": [
    "# Test with Web Crawler route\n",
    "print(\"=== TEST 3: Web Crawler Route ===\")\n",
    "result3 = app.invoke({\"question\": \"What are the latest developments in AI today?\"})"
   ]
  },
  {
   "cell_type": "code",
   "execution_count": 42,
   "id": "e658409c",
   "metadata": {},
   "outputs": [
    {
     "name": "stdout",
     "output_type": "stream",
     "text": [
      "Saving graph structure...\n",
      "Graph saved as: graph.png\n"
     ]
    }
   ],
   "source": [
    "# Save and View Graph Structure\n",
    "def save_graph_png(app, filename=\"langgraph_structure.png\"):\n",
    "    \"\"\"Save the graph structure as PNG\"\"\"\n",
    "    try:\n",
    "        # Get graph as PNG bytes\n",
    "        png_bytes = app.get_graph().draw_mermaid_png()\n",
    "        \n",
    "        # Save to file\n",
    "        with open(filename, \"wb\") as f:\n",
    "            f.write(png_bytes)\n",
    "        \n",
    "        print(f\"Graph saved as: {filename}\")\n",
    "        return png_bytes\n",
    "    except Exception as e:\n",
    "        print(f\"Error saving graph: {e}\")\n",
    "        return None\n",
    "\n",
    "# Save the graph\n",
    "print(\"Saving graph structure...\")\n",
    "png_data = save_graph_png(app, \"graph.png\")\n"
   ]
  },
  {
   "cell_type": "code",
   "execution_count": 43,
   "id": "14d27eaf",
   "metadata": {},
   "outputs": [
    {
     "data": {
      "image/png": "[encoded data removed]",
      "text/plain": [
       "<IPython.core.display.Image object>"
      ]
     },
     "metadata": {},
     "output_type": "display_data"
    },
    {
     "name": "stdout",
     "output_type": "stream",
     "text": [
      "Graph displayed above and saved to file!\n"
     ]
    }
   ],
   "source": [
    "# Display Graph Visualization\n",
    "try:\n",
    "    from IPython.display import Image, display\n",
    "    if png_data:\n",
    "        display(Image(png_data))\n",
    "        print(\"Graph displayed above and saved to file!\")\n",
    "    else:\n",
    "        print(\"Could not generate graph visualization\")\n",
    "except ImportError:\n",
    "    print(\"IPython not available for display, but graph saved to file\")\n",
    "except Exception as e:\n",
    "    print(f\"Display error: {e}\")\n",
    "    print(\"Graph structure (text):\")\n",
    "    print(\"supervisor -> [llm/rag/web_crawler] -> validation -> [supervisor (if fail) / final_output (if pass)]\")\n"
   ]
  },
  {
   "cell_type": "code",
   "execution_count": null,
   "id": "e5c27b1a",
   "metadata": {},
   "outputs": [],
   "source": []
  }
 ],
 "metadata": {
  "kernelspec": {
   "display_name": "Python 3",
   "language": "python",
   "name": "python3"
  },
  "language_info": {
   "codemirror_mode": {
    "name": "ipython",
    "version": 3
   },
   "file_extension": ".py",
   "mimetype": "text/x-python",
   "name": "python",
   "nbconvert_exporter": "python",
   "pygments_lexer": "ipython3",
   "version": "3.12.9"
  }
 },
 "nbformat": 4,
 "nbformat_minor": 5
}
