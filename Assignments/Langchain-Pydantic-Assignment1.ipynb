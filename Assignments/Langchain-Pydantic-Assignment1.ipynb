{
 "cells": [
  {
   "cell_type": "code",
   "execution_count": 1,
   "id": "806391c2",
   "metadata": {},
   "outputs": [
    {
     "name": "stderr",
     "output_type": "stream",
     "text": [
      "python-dotenv could not parse statement starting at line 4\n"
     ]
    },
    {
     "data": {
      "text/plain": [
       "True"
      ]
     },
     "execution_count": 1,
     "metadata": {},
     "output_type": "execute_result"
    }
   ],
   "source": [
    "import os\n",
    "from dotenv import load_dotenv\n",
    "load_dotenv()\n"
   ]
  },
  {
   "cell_type": "code",
   "execution_count": 2,
   "id": "b0232b4a",
   "metadata": {},
   "outputs": [],
   "source": [
    "os.environ[\"OPENAI_API_KEY\"]=os.getenv(\"OPENAI_API_KEY\")\n",
    "os.environ[\"GROQ_API_KEY\"]=os.getenv(\"GROQ_API_KEY\")\n",
    "\n",
    "## Langsmith Tracking And Tracing\n",
    "os.environ[\"LANGCHAIN_API_KEY\"]=os.getenv(\"LANGCHAIN_API_KEY\")\n",
    "os.environ[\"LANGCHAIN_PROJECT\"]=os.getenv(\"LANGCHAIN_PROJECT\")\n",
    "os.environ[\"LANGCHAIN_TRACING_V2\"]=\"true\""
   ]
  },
  {
   "cell_type": "code",
   "execution_count": 3,
   "id": "8d113615",
   "metadata": {},
   "outputs": [],
   "source": [
    "from langchain_groq import ChatGroq\n",
    "from langchain_core.output_parsers import JsonOutputParser\n",
    "from langchain_core.prompts import PromptTemplate\n",
    "from pydantic import BaseModel, Field"
   ]
  },
  {
   "cell_type": "code",
   "execution_count": 4,
   "id": "eafec566",
   "metadata": {},
   "outputs": [],
   "source": [
    "## Define the output schema using Pydantic\n",
    "class Product(BaseModel):\n",
    "    ProductName: str = Field(description=\"The name of the product\")\n",
    "    ProductDetails: str = Field(description=\"The details of the product\")\n",
    "    ProductPrice: float = Field(description=\"The price of the product in USD\")"
   ]
  },
  {
   "cell_type": "code",
   "execution_count": 5,
   "id": "17f07faa",
   "metadata": {},
   "outputs": [],
   "source": [
    "## initialize llm\n",
    "\n",
    "llm = ChatGroq(\n",
    "    model= \"gemma2-9b-it\",\n",
    "    temperature=0,\n",
    ")\n",
    "\n",
    "## Define Output Parser\n",
    "parser = JsonOutputParser(pydantic_object=Product)\n",
    "\n",
    "## Define the prompt template\n",
    "prompt = PromptTemplate(\n",
    "    template=\"You are an eCommerce product specialist with comprehensive knowledge of all eCommerce products. Answer user queries accurately and informatively..\\n{format_instructions}\\n{query}\\n\",\n",
    "    input_variables=[\"query\"],\n",
    "    partial_variables={\"format_instructions\": parser.get_format_instructions()},\n",
    ")\n"
   ]
  },
  {
   "cell_type": "code",
   "execution_count": 6,
   "id": "bdce6337",
   "metadata": {},
   "outputs": [],
   "source": [
    "query = \"Can you provide complete details about Hero Xtreme 125R\"\n",
    "## Run the LLM with the prompt\n",
    "chain = prompt | llm | parser\n",
    "\n",
    "response = chain.invoke({\"query\":query})"
   ]
  },
  {
   "cell_type": "code",
   "execution_count": 7,
   "id": "57c5f83e",
   "metadata": {},
   "outputs": [
    {
     "name": "stdout",
     "output_type": "stream",
     "text": [
      "{'ProductName': 'Hero Xtreme 125R', 'ProductDetails': 'The Hero Xtreme 125R is a popular commuter motorcycle known for its sporty design, comfortable ride, and fuel efficiency. It features a 124.7cc air-cooled engine, a telescopic front fork, and a mono-shock rear suspension. The bike also comes equipped with disc brakes at both ends for enhanced safety.', 'ProductPrice': 129999.0}\n"
     ]
    }
   ],
   "source": [
    "print(response)"
   ]
  },
  {
   "cell_type": "code",
   "execution_count": 8,
   "id": "15bd3eed",
   "metadata": {},
   "outputs": [
    {
     "data": {
      "text/plain": [
       "{'ProductName': 'Samsung Galaxy S23 Ultra',\n",
       " 'ProductDetails': 'The Samsung Galaxy S23 Ultra is a premium Android smartphone with a stunning 6.8-inch Dynamic AMOLED 2X display, a powerful Snapdragon 8 Gen 2 processor, and a versatile quad-camera system featuring a 200MP main sensor. It also boasts a built-in S Pen for enhanced productivity and creativity.',\n",
       " 'ProductPrice': 1199.99}"
      ]
     },
     "execution_count": 8,
     "metadata": {},
     "output_type": "execute_result"
    }
   ],
   "source": [
    "query = \"Can you provide complete details about Samasung Galaxy S23 Ultra\"\n",
    "## Run the LLM with the prompt\n",
    "chain = prompt | llm | parser\n",
    "\n",
    "chain.invoke({\"query\":query})"
   ]
  },
  {
   "cell_type": "code",
   "execution_count": null,
   "id": "c0cab558",
   "metadata": {},
   "outputs": [],
   "source": []
  }
 ],
 "metadata": {
  "kernelspec": {
   "display_name": "Python 3",
   "language": "python",
   "name": "python3"
  },
  "language_info": {
   "codemirror_mode": {
    "name": "ipython",
    "version": 3
   },
   "file_extension": ".py",
   "mimetype": "text/x-python",
   "name": "python",
   "nbconvert_exporter": "python",
   "pygments_lexer": "ipython3",
   "version": "3.12.9"
  }
 },
 "nbformat": 4,
 "nbformat_minor": 5
}
